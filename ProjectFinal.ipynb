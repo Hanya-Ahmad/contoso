{
 "cells": [
  {
   "cell_type": "markdown",
   "id": "da900754",
   "metadata": {},
   "source": [
    "<h1><center><font color='blue'>Predict Heart Failure</font></center></h1>"
   ]
  },
  {
   "cell_type": "markdown",
   "id": "39eb85ee",
   "metadata": {},
   "source": [
    "This dataset was created by combining different datasets available independantly but not combine before. This dataset originally had 1190 entries, with 272 duplicated. The duplicated rows were dropped leaving the dataset with 918 entries.\n"
   ]
  },
  {
   "cell_type": "markdown",
   "id": "92ca47b0",
   "metadata": {},
   "source": [
    "## Introduction for the dataset:"
   ]
  },
  {
   "cell_type": "markdown",
   "id": "eb3761e3",
   "metadata": {},
   "source": [
    "|Column | Description | Changes to be made|\n",
    "|---|---|---|\n",
    "|Age| age of the patient in years|-|\n",
    "|Sex| sex of the patient|Males encoded to 0s and females to 1s|\n",
    "|ChestPainType| Typical Angina, Atypical Angina, Non-anginal or Asymptomatic|ASY encoded to 0, ATA to 1, NAP to 2 and TA to 3|\n",
    "|RestingBP| Blood Pressure in mmHg|-|\n",
    "|Cholesterol| Serum cholesterol in mg/dL|-|\n",
    "|FastingBS| Patient's fasting blood sugar|Encoded to 0 if less than 120 and 1 otherwise|\n",
    "|RestingECG|Normal,Having ST-T wave abnormality, showing probable or definite left ventricular hypertrophy|LVH encoded to 0, Normal to 1 and ST to 2|\n",
    "|MaxHR| Maximum heart rate|-|\n",
    "|ExerciseAngina|Excersice-induced angina|Y encoded to 1 and N encoded to 0|\n",
    "|Oldpeak|ST numerical measured in depression|-|\n",
    "|ST_slope|Slope of the peak exercise ST segment (Upsloping, flat, downsloping)|Down encoded to 0, flat to 1 and up to 2|\n",
    "|HeartDisease|Normal or has heart failure|-|"
   ]
  },
  {
   "cell_type": "markdown",
   "id": "8e626850",
   "metadata": {},
   "source": [
    "## Explore the dataset:"
   ]
  },
  {
   "cell_type": "code",
   "execution_count": 4,
   "id": "3d568c8a",
   "metadata": {},
   "outputs": [],
   "source": [
    "#import the important packages\n",
    "import pandas as pd\n",
    "import os "
   ]
  },
  {
   "cell_type": "code",
   "execution_count": 5,
   "id": "51c677cb",
   "metadata": {},
   "outputs": [],
   "source": [
    "df=pd.read_csv('heart.csv')"
   ]
  },
  {
   "cell_type": "code",
   "execution_count": 6,
   "id": "b81d1a2d",
   "metadata": {},
   "outputs": [
    {
     "data": {
      "text/html": [
       "<div>\n",
       "<style scoped>\n",
       "    .dataframe tbody tr th:only-of-type {\n",
       "        vertical-align: middle;\n",
       "    }\n",
       "\n",
       "    .dataframe tbody tr th {\n",
       "        vertical-align: top;\n",
       "    }\n",
       "\n",
       "    .dataframe thead th {\n",
       "        text-align: right;\n",
       "    }\n",
       "</style>\n",
       "<table border=\"1\" class=\"dataframe\">\n",
       "  <thead>\n",
       "    <tr style=\"text-align: right;\">\n",
       "      <th></th>\n",
       "      <th>Age</th>\n",
       "      <th>Sex</th>\n",
       "      <th>ChestPainType</th>\n",
       "      <th>RestingBP</th>\n",
       "      <th>Cholesterol</th>\n",
       "      <th>FastingBS</th>\n",
       "      <th>RestingECG</th>\n",
       "      <th>MaxHR</th>\n",
       "      <th>ExerciseAngina</th>\n",
       "      <th>Oldpeak</th>\n",
       "      <th>ST_Slope</th>\n",
       "      <th>HeartDisease</th>\n",
       "    </tr>\n",
       "  </thead>\n",
       "  <tbody>\n",
       "    <tr>\n",
       "      <th>0</th>\n",
       "      <td>40</td>\n",
       "      <td>M</td>\n",
       "      <td>ATA</td>\n",
       "      <td>140</td>\n",
       "      <td>289</td>\n",
       "      <td>0</td>\n",
       "      <td>Normal</td>\n",
       "      <td>172</td>\n",
       "      <td>N</td>\n",
       "      <td>0.0</td>\n",
       "      <td>Up</td>\n",
       "      <td>0</td>\n",
       "    </tr>\n",
       "    <tr>\n",
       "      <th>1</th>\n",
       "      <td>49</td>\n",
       "      <td>F</td>\n",
       "      <td>NAP</td>\n",
       "      <td>160</td>\n",
       "      <td>180</td>\n",
       "      <td>0</td>\n",
       "      <td>Normal</td>\n",
       "      <td>156</td>\n",
       "      <td>N</td>\n",
       "      <td>1.0</td>\n",
       "      <td>Flat</td>\n",
       "      <td>1</td>\n",
       "    </tr>\n",
       "    <tr>\n",
       "      <th>2</th>\n",
       "      <td>37</td>\n",
       "      <td>M</td>\n",
       "      <td>ATA</td>\n",
       "      <td>130</td>\n",
       "      <td>283</td>\n",
       "      <td>0</td>\n",
       "      <td>ST</td>\n",
       "      <td>98</td>\n",
       "      <td>N</td>\n",
       "      <td>0.0</td>\n",
       "      <td>Up</td>\n",
       "      <td>0</td>\n",
       "    </tr>\n",
       "    <tr>\n",
       "      <th>3</th>\n",
       "      <td>48</td>\n",
       "      <td>F</td>\n",
       "      <td>ASY</td>\n",
       "      <td>138</td>\n",
       "      <td>214</td>\n",
       "      <td>0</td>\n",
       "      <td>Normal</td>\n",
       "      <td>108</td>\n",
       "      <td>Y</td>\n",
       "      <td>1.5</td>\n",
       "      <td>Flat</td>\n",
       "      <td>1</td>\n",
       "    </tr>\n",
       "    <tr>\n",
       "      <th>4</th>\n",
       "      <td>54</td>\n",
       "      <td>M</td>\n",
       "      <td>NAP</td>\n",
       "      <td>150</td>\n",
       "      <td>195</td>\n",
       "      <td>0</td>\n",
       "      <td>Normal</td>\n",
       "      <td>122</td>\n",
       "      <td>N</td>\n",
       "      <td>0.0</td>\n",
       "      <td>Up</td>\n",
       "      <td>0</td>\n",
       "    </tr>\n",
       "  </tbody>\n",
       "</table>\n",
       "</div>"
      ],
      "text/plain": [
       "   Age Sex ChestPainType  RestingBP  Cholesterol  FastingBS RestingECG  MaxHR  \\\n",
       "0   40   M           ATA        140          289          0     Normal    172   \n",
       "1   49   F           NAP        160          180          0     Normal    156   \n",
       "2   37   M           ATA        130          283          0         ST     98   \n",
       "3   48   F           ASY        138          214          0     Normal    108   \n",
       "4   54   M           NAP        150          195          0     Normal    122   \n",
       "\n",
       "  ExerciseAngina  Oldpeak ST_Slope  HeartDisease  \n",
       "0              N      0.0       Up             0  \n",
       "1              N      1.0     Flat             1  \n",
       "2              N      0.0       Up             0  \n",
       "3              Y      1.5     Flat             1  \n",
       "4              N      0.0       Up             0  "
      ]
     },
     "execution_count": 6,
     "metadata": {},
     "output_type": "execute_result"
    }
   ],
   "source": [
    "df.head()"
   ]
  },
  {
   "cell_type": "code",
   "execution_count": 7,
   "id": "90de0e24",
   "metadata": {
    "scrolled": false
   },
   "outputs": [
    {
     "name": "stdout",
     "output_type": "stream",
     "text": [
      "<class 'pandas.core.frame.DataFrame'>\n",
      "RangeIndex: 918 entries, 0 to 917\n",
      "Data columns (total 12 columns):\n",
      " #   Column          Non-Null Count  Dtype  \n",
      "---  ------          --------------  -----  \n",
      " 0   Age             918 non-null    int64  \n",
      " 1   Sex             918 non-null    object \n",
      " 2   ChestPainType   918 non-null    object \n",
      " 3   RestingBP       918 non-null    int64  \n",
      " 4   Cholesterol     918 non-null    int64  \n",
      " 5   FastingBS       918 non-null    int64  \n",
      " 6   RestingECG      918 non-null    object \n",
      " 7   MaxHR           918 non-null    int64  \n",
      " 8   ExerciseAngina  918 non-null    object \n",
      " 9   Oldpeak         918 non-null    float64\n",
      " 10  ST_Slope        918 non-null    object \n",
      " 11  HeartDisease    918 non-null    int64  \n",
      "dtypes: float64(1), int64(6), object(5)\n",
      "memory usage: 86.2+ KB\n"
     ]
    }
   ],
   "source": [
    "df.info()"
   ]
  },
  {
   "cell_type": "code",
   "execution_count": 8,
   "id": "432d0d50",
   "metadata": {},
   "outputs": [
    {
     "data": {
      "text/plain": [
       "0"
      ]
     },
     "execution_count": 8,
     "metadata": {},
     "output_type": "execute_result"
    }
   ],
   "source": [
    "df.duplicated().sum()"
   ]
  },
  {
   "cell_type": "code",
   "execution_count": 9,
   "id": "e11d4c06",
   "metadata": {},
   "outputs": [
    {
     "data": {
      "text/html": [
       "<div>\n",
       "<style scoped>\n",
       "    .dataframe tbody tr th:only-of-type {\n",
       "        vertical-align: middle;\n",
       "    }\n",
       "\n",
       "    .dataframe tbody tr th {\n",
       "        vertical-align: top;\n",
       "    }\n",
       "\n",
       "    .dataframe thead th {\n",
       "        text-align: right;\n",
       "    }\n",
       "</style>\n",
       "<table border=\"1\" class=\"dataframe\">\n",
       "  <thead>\n",
       "    <tr style=\"text-align: right;\">\n",
       "      <th></th>\n",
       "      <th>Age</th>\n",
       "      <th>RestingBP</th>\n",
       "      <th>Cholesterol</th>\n",
       "      <th>FastingBS</th>\n",
       "      <th>MaxHR</th>\n",
       "      <th>Oldpeak</th>\n",
       "      <th>HeartDisease</th>\n",
       "    </tr>\n",
       "  </thead>\n",
       "  <tbody>\n",
       "    <tr>\n",
       "      <th>count</th>\n",
       "      <td>918.000000</td>\n",
       "      <td>918.000000</td>\n",
       "      <td>918.000000</td>\n",
       "      <td>918.000000</td>\n",
       "      <td>918.000000</td>\n",
       "      <td>918.000000</td>\n",
       "      <td>918.000000</td>\n",
       "    </tr>\n",
       "    <tr>\n",
       "      <th>mean</th>\n",
       "      <td>53.510893</td>\n",
       "      <td>132.396514</td>\n",
       "      <td>198.799564</td>\n",
       "      <td>0.233115</td>\n",
       "      <td>136.809368</td>\n",
       "      <td>0.887364</td>\n",
       "      <td>0.553377</td>\n",
       "    </tr>\n",
       "    <tr>\n",
       "      <th>std</th>\n",
       "      <td>9.432617</td>\n",
       "      <td>18.514154</td>\n",
       "      <td>109.384145</td>\n",
       "      <td>0.423046</td>\n",
       "      <td>25.460334</td>\n",
       "      <td>1.066570</td>\n",
       "      <td>0.497414</td>\n",
       "    </tr>\n",
       "    <tr>\n",
       "      <th>min</th>\n",
       "      <td>28.000000</td>\n",
       "      <td>0.000000</td>\n",
       "      <td>0.000000</td>\n",
       "      <td>0.000000</td>\n",
       "      <td>60.000000</td>\n",
       "      <td>-2.600000</td>\n",
       "      <td>0.000000</td>\n",
       "    </tr>\n",
       "    <tr>\n",
       "      <th>25%</th>\n",
       "      <td>47.000000</td>\n",
       "      <td>120.000000</td>\n",
       "      <td>173.250000</td>\n",
       "      <td>0.000000</td>\n",
       "      <td>120.000000</td>\n",
       "      <td>0.000000</td>\n",
       "      <td>0.000000</td>\n",
       "    </tr>\n",
       "    <tr>\n",
       "      <th>50%</th>\n",
       "      <td>54.000000</td>\n",
       "      <td>130.000000</td>\n",
       "      <td>223.000000</td>\n",
       "      <td>0.000000</td>\n",
       "      <td>138.000000</td>\n",
       "      <td>0.600000</td>\n",
       "      <td>1.000000</td>\n",
       "    </tr>\n",
       "    <tr>\n",
       "      <th>75%</th>\n",
       "      <td>60.000000</td>\n",
       "      <td>140.000000</td>\n",
       "      <td>267.000000</td>\n",
       "      <td>0.000000</td>\n",
       "      <td>156.000000</td>\n",
       "      <td>1.500000</td>\n",
       "      <td>1.000000</td>\n",
       "    </tr>\n",
       "    <tr>\n",
       "      <th>max</th>\n",
       "      <td>77.000000</td>\n",
       "      <td>200.000000</td>\n",
       "      <td>603.000000</td>\n",
       "      <td>1.000000</td>\n",
       "      <td>202.000000</td>\n",
       "      <td>6.200000</td>\n",
       "      <td>1.000000</td>\n",
       "    </tr>\n",
       "  </tbody>\n",
       "</table>\n",
       "</div>"
      ],
      "text/plain": [
       "              Age   RestingBP  Cholesterol   FastingBS       MaxHR  \\\n",
       "count  918.000000  918.000000   918.000000  918.000000  918.000000   \n",
       "mean    53.510893  132.396514   198.799564    0.233115  136.809368   \n",
       "std      9.432617   18.514154   109.384145    0.423046   25.460334   \n",
       "min     28.000000    0.000000     0.000000    0.000000   60.000000   \n",
       "25%     47.000000  120.000000   173.250000    0.000000  120.000000   \n",
       "50%     54.000000  130.000000   223.000000    0.000000  138.000000   \n",
       "75%     60.000000  140.000000   267.000000    0.000000  156.000000   \n",
       "max     77.000000  200.000000   603.000000    1.000000  202.000000   \n",
       "\n",
       "          Oldpeak  HeartDisease  \n",
       "count  918.000000    918.000000  \n",
       "mean     0.887364      0.553377  \n",
       "std      1.066570      0.497414  \n",
       "min     -2.600000      0.000000  \n",
       "25%      0.000000      0.000000  \n",
       "50%      0.600000      1.000000  \n",
       "75%      1.500000      1.000000  \n",
       "max      6.200000      1.000000  "
      ]
     },
     "execution_count": 9,
     "metadata": {},
     "output_type": "execute_result"
    }
   ],
   "source": [
    "df.describe()"
   ]
  },
  {
   "cell_type": "code",
   "execution_count": 10,
   "id": "d8adf75d",
   "metadata": {},
   "outputs": [
    {
     "name": "stdout",
     "output_type": "stream",
     "text": [
      "Age: \n",
      "[40 49 37 48 54 39 45 58 42 38 43 60 36 44 53 52 51 56 41 32 65 35 59 50\n",
      " 47 31 46 57 55 63 66 34 33 61 29 62 28 30 74 68 72 64 69 67 73 70 77 75\n",
      " 76 71]\n",
      "Sex: \n",
      "['M' 'F']\n",
      "ChestPainType: \n",
      "['ATA' 'NAP' 'ASY' 'TA']\n",
      "RestingBP: \n",
      "[140 160 130 138 150 120 110 136 115 100 124 113 125 145 112 132 118 170\n",
      " 142 190 135 180 108 155 128 106  92 200 122  98 105 133  95  80 137 185\n",
      " 165 126 152 116   0 144 154 134 104 139 131 141 178 146 158 123 102  96\n",
      " 143 172 156 114 127 101 174  94 148 117 192 129 164]\n",
      "Cholesterol: \n",
      "[289 180 283 214 195 339 237 208 207 284 211 164 204 234 273 196 201 248\n",
      " 267 223 184 288 215 209 260 468 188 518 167 224 172 186 254 306 250 177\n",
      " 227 230 294 264 259 175 318 216 340 233 205 245 194 270 213 365 342 253\n",
      " 277 202 297 225 246 412 265 182 218 268 163 529 100 206 238 139 263 291\n",
      " 229 307 210 329 147  85 269 275 179 392 466 129 241 255 276 282 338 160\n",
      " 156 272 240 393 161 228 292 388 166 247 331 341 243 279 198 249 168 603\n",
      " 159 190 185 290 212 231 222 235 320 187 266 287 404 312 251 328 285 280\n",
      " 192 193 308 219 257 132 226 217 303 298 256 117 295 173 315 281 309 200\n",
      " 336 355 326 171 491 271 274 394 221 126 305 220 242 347 344 358 169 181\n",
      "   0 236 203 153 316 311 252 458 384 258 349 142 197 113 261 310 232 110\n",
      " 123 170 369 152 244 165 337 300 333 385 322 564 239 293 407 149 199 417\n",
      " 178 319 354 330 302 313 141 327 304 286 360 262 325 299 409 174 183 321\n",
      " 353 335 278 157 176 131]\n",
      "FastingBS: \n",
      "[0 1]\n",
      "RestingECG: \n",
      "['Normal' 'ST' 'LVH']\n",
      "MaxHR: \n",
      "[172 156  98 108 122 170 142 130 120  99 145 140 137 150 166 165 125 160\n",
      " 164 138 178 112 118 127 114 154 155  87 148 100 168 184 121 153 134  96\n",
      " 174 175 144  82 135 115 128 116  94 110  92 180 152 124 106 185 139 190\n",
      " 146 158 132 176 119 188 162 105  90 136 167 129 102 143 103  91 126  93\n",
      " 131 149 123 182 141  77 109 133 179 113 104  95  72  97 117  86  63 157\n",
      "  83  60  70 163  67  78  84 111  80 107 161  69  88  73 159 151 181 186\n",
      " 177 173 169 171 147  71 192 195 194 187 202]\n",
      "ExerciseAngina: \n",
      "['N' 'Y']\n",
      "Oldpeak: \n",
      "[ 0.   1.   1.5  2.   3.   4.   0.5  2.5  5.   0.8  0.7  1.4  2.1  0.4\n",
      "  0.2  1.7  2.2  0.1  1.6  1.3  0.3  1.8  2.6 -0.9  2.8 -2.6 -1.5 -0.1\n",
      "  0.9  1.1  2.4 -1.  -1.1 -0.7 -0.8  3.7  1.2 -0.5 -2.   1.9  3.5  0.6\n",
      "  3.1  2.3  3.4  3.6  4.2  3.2  5.6  3.8  2.9  6.2  4.4]\n",
      "ST_Slope: \n",
      "['Up' 'Flat' 'Down']\n",
      "HeartDisease: \n",
      "[0 1]\n"
     ]
    }
   ],
   "source": [
    "for col in df.columns:\n",
    "    print(col+': ')\n",
    "    print(df[col].unique())"
   ]
  },
  {
   "cell_type": "markdown",
   "id": "91d3f9fe",
   "metadata": {},
   "source": [
    "> We notice that Cholesterol and Blood Pressure have zero values which can't be valid."
   ]
  },
  {
   "cell_type": "code",
   "execution_count": 1,
   "id": "46e3edeb",
   "metadata": {},
   "outputs": [],
   "source": [
    "#Explore the dataset visually\n",
    "\n",
    "import matplotlib.pyplot as plt\n",
    "import seaborn as sns\n",
    "import numpy as np"
   ]
  },
  {
   "cell_type": "code",
   "execution_count": 21,
   "id": "2f660185",
   "metadata": {},
   "outputs": [
    {
     "data": {
      "image/png": "[encoded data removed]",
      "text/plain": [
       "<Figure size 432x288 with 1 Axes>"
      ]
     },
     "metadata": {
      "needs_background": "light"
     },
     "output_type": "display_data"
    }
   ],
   "source": [
    "plt.bar([0,1],df['HeartDisease'].value_counts().tolist())\n",
    "plt.xticks([0,1], ['Heart Failure','Healthy'])\n",
    "plt.title('Number of patients and healthy');\n"
   ]
  },
  {
   "cell_type": "code",
   "execution_count": 22,
   "id": "09eb0c6f",
   "metadata": {},
   "outputs": [
    {
     "data": {
      "image/png": "[encoded data removed]",
      "text/plain": [
       "<Figure size 432x288 with 1 Axes>"
      ]
     },
     "metadata": {
      "needs_background": "light"
     },
     "output_type": "display_data"
    }
   ],
   "source": [
    "plt.bar([0,1],df['Sex'].value_counts().tolist())\n",
    "plt.xticks([0,1], ['Male','Female'])\n",
    "plt.title('Gender');"
   ]
  },
  {
   "cell_type": "markdown",
   "id": "821d05ab",
   "metadata": {},
   "source": [
    "People aged 65 or above are more likely to have a heart failure than younger people. So let's compare these 2 groups."
   ]
  },
  {
   "cell_type": "code",
   "execution_count": 33,
   "id": "d9a9d30a",
   "metadata": {},
   "outputs": [
    {
     "data": {
      "image/png": "[encoded data removed]",
      "text/plain": [
       "<Figure size 432x288 with 1 Axes>"
      ]
     },
     "metadata": {
      "needs_background": "light"
     },
     "output_type": "display_data"
    }
   ],
   "source": [
    "plt.bar([0,1],[(df['Age']<65).sum(),(df['Age']>=65).sum()])\n",
    "plt.xticks([0,1],['Below 65','65 or above'])\n",
    "plt.title('Age');"
   ]
  },
  {
   "cell_type": "markdown",
   "id": "2a892dd3",
   "metadata": {},
   "source": [
    " <h1> Changes to be made: </h1> <br>\n",
    " 1- Change columns' names.\n",
    " \n",
    " 2- Fix the rows containing 0 value for serum cholesterol.\n",
    " \n",
    " 3- Fix the rows containing 0 value for resting blood pressure.\n",
    " "
   ]
  },
  {
   "cell_type": "code",
   "execution_count": 8,
   "id": "c0b77ab8",
   "metadata": {},
   "outputs": [],
   "source": [
    "new_columns=['age','sex','chest_pain','resting_bp','cholesterol','fasting_bs','resting_ecg','max_hr','exercise_angina'\n",
    "            ,'oldpeak','st_slope','heart_disease']"
   ]
  },
  {
   "cell_type": "code",
   "execution_count": 9,
   "id": "bb2e4771",
   "metadata": {},
   "outputs": [],
   "source": [
    "df.columns=new_columns"
   ]
  },
  {
   "cell_type": "code",
   "execution_count": 10,
   "id": "1c3432c3",
   "metadata": {},
   "outputs": [
    {
     "data": {
      "text/plain": [
       "Index(['age', 'sex', 'chest_pain', 'resting_bp', 'cholesterol', 'fasting_bs',\n",
       "       'resting_ecg', 'max_hr', 'exercise_angina', 'oldpeak', 'st_slope',\n",
       "       'heart_disease'],\n",
       "      dtype='object')"
      ]
     },
     "execution_count": 10,
     "metadata": {},
     "output_type": "execute_result"
    }
   ],
   "source": [
    "df.columns"
   ]
  },
  {
   "cell_type": "markdown",
   "id": "473626ad",
   "metadata": {},
   "source": [
    "### Fix the zero-cholesterol-value"
   ]
  },
  {
   "cell_type": "code",
   "execution_count": 11,
   "id": "4ae69a96",
   "metadata": {},
   "outputs": [
    {
     "data": {
      "text/html": [
       "<div>\n",
       "<style scoped>\n",
       "    .dataframe tbody tr th:only-of-type {\n",
       "        vertical-align: middle;\n",
       "    }\n",
       "\n",
       "    .dataframe tbody tr th {\n",
       "        vertical-align: top;\n",
       "    }\n",
       "\n",
       "    .dataframe thead th {\n",
       "        text-align: right;\n",
       "    }\n",
       "</style>\n",
       "<table border=\"1\" class=\"dataframe\">\n",
       "  <thead>\n",
       "    <tr style=\"text-align: right;\">\n",
       "      <th></th>\n",
       "      <th>age</th>\n",
       "      <th>sex</th>\n",
       "      <th>chest_pain</th>\n",
       "      <th>resting_bp</th>\n",
       "      <th>cholesterol</th>\n",
       "      <th>fasting_bs</th>\n",
       "      <th>resting_ecg</th>\n",
       "      <th>max_hr</th>\n",
       "      <th>exercise_angina</th>\n",
       "      <th>oldpeak</th>\n",
       "      <th>st_slope</th>\n",
       "      <th>heart_disease</th>\n",
       "    </tr>\n",
       "  </thead>\n",
       "  <tbody>\n",
       "    <tr>\n",
       "      <th>293</th>\n",
       "      <td>65</td>\n",
       "      <td>M</td>\n",
       "      <td>ASY</td>\n",
       "      <td>115</td>\n",
       "      <td>0</td>\n",
       "      <td>0</td>\n",
       "      <td>Normal</td>\n",
       "      <td>93</td>\n",
       "      <td>Y</td>\n",
       "      <td>0.0</td>\n",
       "      <td>Flat</td>\n",
       "      <td>1</td>\n",
       "    </tr>\n",
       "    <tr>\n",
       "      <th>294</th>\n",
       "      <td>32</td>\n",
       "      <td>M</td>\n",
       "      <td>TA</td>\n",
       "      <td>95</td>\n",
       "      <td>0</td>\n",
       "      <td>1</td>\n",
       "      <td>Normal</td>\n",
       "      <td>127</td>\n",
       "      <td>N</td>\n",
       "      <td>0.7</td>\n",
       "      <td>Up</td>\n",
       "      <td>1</td>\n",
       "    </tr>\n",
       "    <tr>\n",
       "      <th>295</th>\n",
       "      <td>61</td>\n",
       "      <td>M</td>\n",
       "      <td>ASY</td>\n",
       "      <td>105</td>\n",
       "      <td>0</td>\n",
       "      <td>1</td>\n",
       "      <td>Normal</td>\n",
       "      <td>110</td>\n",
       "      <td>Y</td>\n",
       "      <td>1.5</td>\n",
       "      <td>Up</td>\n",
       "      <td>1</td>\n",
       "    </tr>\n",
       "    <tr>\n",
       "      <th>296</th>\n",
       "      <td>50</td>\n",
       "      <td>M</td>\n",
       "      <td>ASY</td>\n",
       "      <td>145</td>\n",
       "      <td>0</td>\n",
       "      <td>1</td>\n",
       "      <td>Normal</td>\n",
       "      <td>139</td>\n",
       "      <td>Y</td>\n",
       "      <td>0.7</td>\n",
       "      <td>Flat</td>\n",
       "      <td>1</td>\n",
       "    </tr>\n",
       "    <tr>\n",
       "      <th>297</th>\n",
       "      <td>57</td>\n",
       "      <td>M</td>\n",
       "      <td>ASY</td>\n",
       "      <td>110</td>\n",
       "      <td>0</td>\n",
       "      <td>1</td>\n",
       "      <td>ST</td>\n",
       "      <td>131</td>\n",
       "      <td>Y</td>\n",
       "      <td>1.4</td>\n",
       "      <td>Up</td>\n",
       "      <td>1</td>\n",
       "    </tr>\n",
       "    <tr>\n",
       "      <th>...</th>\n",
       "      <td>...</td>\n",
       "      <td>...</td>\n",
       "      <td>...</td>\n",
       "      <td>...</td>\n",
       "      <td>...</td>\n",
       "      <td>...</td>\n",
       "      <td>...</td>\n",
       "      <td>...</td>\n",
       "      <td>...</td>\n",
       "      <td>...</td>\n",
       "      <td>...</td>\n",
       "      <td>...</td>\n",
       "    </tr>\n",
       "    <tr>\n",
       "      <th>514</th>\n",
       "      <td>43</td>\n",
       "      <td>M</td>\n",
       "      <td>ASY</td>\n",
       "      <td>122</td>\n",
       "      <td>0</td>\n",
       "      <td>0</td>\n",
       "      <td>Normal</td>\n",
       "      <td>120</td>\n",
       "      <td>N</td>\n",
       "      <td>0.5</td>\n",
       "      <td>Up</td>\n",
       "      <td>1</td>\n",
       "    </tr>\n",
       "    <tr>\n",
       "      <th>515</th>\n",
       "      <td>63</td>\n",
       "      <td>M</td>\n",
       "      <td>NAP</td>\n",
       "      <td>130</td>\n",
       "      <td>0</td>\n",
       "      <td>1</td>\n",
       "      <td>ST</td>\n",
       "      <td>160</td>\n",
       "      <td>N</td>\n",
       "      <td>3.0</td>\n",
       "      <td>Flat</td>\n",
       "      <td>0</td>\n",
       "    </tr>\n",
       "    <tr>\n",
       "      <th>518</th>\n",
       "      <td>48</td>\n",
       "      <td>M</td>\n",
       "      <td>NAP</td>\n",
       "      <td>102</td>\n",
       "      <td>0</td>\n",
       "      <td>1</td>\n",
       "      <td>ST</td>\n",
       "      <td>110</td>\n",
       "      <td>Y</td>\n",
       "      <td>1.0</td>\n",
       "      <td>Down</td>\n",
       "      <td>1</td>\n",
       "    </tr>\n",
       "    <tr>\n",
       "      <th>535</th>\n",
       "      <td>56</td>\n",
       "      <td>M</td>\n",
       "      <td>ASY</td>\n",
       "      <td>130</td>\n",
       "      <td>0</td>\n",
       "      <td>0</td>\n",
       "      <td>LVH</td>\n",
       "      <td>122</td>\n",
       "      <td>Y</td>\n",
       "      <td>1.0</td>\n",
       "      <td>Flat</td>\n",
       "      <td>1</td>\n",
       "    </tr>\n",
       "    <tr>\n",
       "      <th>536</th>\n",
       "      <td>62</td>\n",
       "      <td>M</td>\n",
       "      <td>NAP</td>\n",
       "      <td>133</td>\n",
       "      <td>0</td>\n",
       "      <td>1</td>\n",
       "      <td>ST</td>\n",
       "      <td>119</td>\n",
       "      <td>Y</td>\n",
       "      <td>1.2</td>\n",
       "      <td>Flat</td>\n",
       "      <td>1</td>\n",
       "    </tr>\n",
       "  </tbody>\n",
       "</table>\n",
       "<p>172 rows × 12 columns</p>\n",
       "</div>"
      ],
      "text/plain": [
       "     age sex chest_pain  resting_bp  cholesterol  fasting_bs resting_ecg  \\\n",
       "293   65   M        ASY         115            0           0      Normal   \n",
       "294   32   M         TA          95            0           1      Normal   \n",
       "295   61   M        ASY         105            0           1      Normal   \n",
       "296   50   M        ASY         145            0           1      Normal   \n",
       "297   57   M        ASY         110            0           1          ST   \n",
       "..   ...  ..        ...         ...          ...         ...         ...   \n",
       "514   43   M        ASY         122            0           0      Normal   \n",
       "515   63   M        NAP         130            0           1          ST   \n",
       "518   48   M        NAP         102            0           1          ST   \n",
       "535   56   M        ASY         130            0           0         LVH   \n",
       "536   62   M        NAP         133            0           1          ST   \n",
       "\n",
       "     max_hr exercise_angina  oldpeak st_slope  heart_disease  \n",
       "293      93               Y      0.0     Flat              1  \n",
       "294     127               N      0.7       Up              1  \n",
       "295     110               Y      1.5       Up              1  \n",
       "296     139               Y      0.7     Flat              1  \n",
       "297     131               Y      1.4       Up              1  \n",
       "..      ...             ...      ...      ...            ...  \n",
       "514     120               N      0.5       Up              1  \n",
       "515     160               N      3.0     Flat              0  \n",
       "518     110               Y      1.0     Down              1  \n",
       "535     122               Y      1.0     Flat              1  \n",
       "536     119               Y      1.2     Flat              1  \n",
       "\n",
       "[172 rows x 12 columns]"
      ]
     },
     "execution_count": 11,
     "metadata": {},
     "output_type": "execute_result"
    }
   ],
   "source": [
    "df[df['cholesterol']==0]"
   ]
  },
  {
   "cell_type": "markdown",
   "id": "fd01637c",
   "metadata": {},
   "source": [
    "> Here we find 172 rows having zero-cholesterol-value and it won't be effective to drop these rows."
   ]
  },
  {
   "cell_type": "code",
   "execution_count": 12,
   "id": "df948385",
   "metadata": {
    "scrolled": true
   },
   "outputs": [],
   "source": [
    "# linear regression for missing cholesterol values \n",
    "import numpy as np\n",
    "from sklearn.experimental import enable_iterative_imputer\n",
    "from sklearn.impute import IterativeImputer\n",
    "from sklearn.linear_model import LinearRegression\n",
    "\n",
    "lr = LinearRegression()\n",
    "imp = IterativeImputer(estimator=lr,missing_values=0, max_iter=10, verbose=2, imputation_order='roman',random_state=0)\n",
    "df2=imp.fit_transform(df.loc[:,['cholesterol']])\n",
    "df['cholesterol']=df2"
   ]
  },
  {
   "cell_type": "markdown",
   "id": "16c5c20a",
   "metadata": {},
   "source": [
    "### Fix the blood pressure zero-value"
   ]
  },
  {
   "cell_type": "code",
   "execution_count": 13,
   "id": "06a247a1",
   "metadata": {},
   "outputs": [
    {
     "data": {
      "text/html": [
       "<div>\n",
       "<style scoped>\n",
       "    .dataframe tbody tr th:only-of-type {\n",
       "        vertical-align: middle;\n",
       "    }\n",
       "\n",
       "    .dataframe tbody tr th {\n",
       "        vertical-align: top;\n",
       "    }\n",
       "\n",
       "    .dataframe thead th {\n",
       "        text-align: right;\n",
       "    }\n",
       "</style>\n",
       "<table border=\"1\" class=\"dataframe\">\n",
       "  <thead>\n",
       "    <tr style=\"text-align: right;\">\n",
       "      <th></th>\n",
       "      <th>age</th>\n",
       "      <th>sex</th>\n",
       "      <th>chest_pain</th>\n",
       "      <th>resting_bp</th>\n",
       "      <th>cholesterol</th>\n",
       "      <th>fasting_bs</th>\n",
       "      <th>resting_ecg</th>\n",
       "      <th>max_hr</th>\n",
       "      <th>exercise_angina</th>\n",
       "      <th>oldpeak</th>\n",
       "      <th>st_slope</th>\n",
       "      <th>heart_disease</th>\n",
       "    </tr>\n",
       "  </thead>\n",
       "  <tbody>\n",
       "    <tr>\n",
       "      <th>449</th>\n",
       "      <td>55</td>\n",
       "      <td>M</td>\n",
       "      <td>NAP</td>\n",
       "      <td>0</td>\n",
       "      <td>244.635389</td>\n",
       "      <td>0</td>\n",
       "      <td>Normal</td>\n",
       "      <td>155</td>\n",
       "      <td>N</td>\n",
       "      <td>1.5</td>\n",
       "      <td>Flat</td>\n",
       "      <td>1</td>\n",
       "    </tr>\n",
       "  </tbody>\n",
       "</table>\n",
       "</div>"
      ],
      "text/plain": [
       "     age sex chest_pain  resting_bp  cholesterol  fasting_bs resting_ecg  \\\n",
       "449   55   M        NAP           0   244.635389           0      Normal   \n",
       "\n",
       "     max_hr exercise_angina  oldpeak st_slope  heart_disease  \n",
       "449     155               N      1.5     Flat              1  "
      ]
     },
     "execution_count": 13,
     "metadata": {},
     "output_type": "execute_result"
    }
   ],
   "source": [
    "df[df['resting_bp']==0]"
   ]
  },
  {
   "cell_type": "code",
   "execution_count": 14,
   "id": "683cff13",
   "metadata": {
    "scrolled": false
   },
   "outputs": [],
   "source": [
    "df=df.drop(df.index[449])"
   ]
  },
  {
   "cell_type": "code",
   "execution_count": 15,
   "id": "9a7f90bc",
   "metadata": {},
   "outputs": [
    {
     "data": {
      "text/html": [
       "<div>\n",
       "<style scoped>\n",
       "    .dataframe tbody tr th:only-of-type {\n",
       "        vertical-align: middle;\n",
       "    }\n",
       "\n",
       "    .dataframe tbody tr th {\n",
       "        vertical-align: top;\n",
       "    }\n",
       "\n",
       "    .dataframe thead th {\n",
       "        text-align: right;\n",
       "    }\n",
       "</style>\n",
       "<table border=\"1\" class=\"dataframe\">\n",
       "  <thead>\n",
       "    <tr style=\"text-align: right;\">\n",
       "      <th></th>\n",
       "      <th>age</th>\n",
       "      <th>sex</th>\n",
       "      <th>chest_pain</th>\n",
       "      <th>resting_bp</th>\n",
       "      <th>cholesterol</th>\n",
       "      <th>fasting_bs</th>\n",
       "      <th>resting_ecg</th>\n",
       "      <th>max_hr</th>\n",
       "      <th>exercise_angina</th>\n",
       "      <th>oldpeak</th>\n",
       "      <th>st_slope</th>\n",
       "      <th>heart_disease</th>\n",
       "    </tr>\n",
       "  </thead>\n",
       "  <tbody>\n",
       "  </tbody>\n",
       "</table>\n",
       "</div>"
      ],
      "text/plain": [
       "Empty DataFrame\n",
       "Columns: [age, sex, chest_pain, resting_bp, cholesterol, fasting_bs, resting_ecg, max_hr, exercise_angina, oldpeak, st_slope, heart_disease]\n",
       "Index: []"
      ]
     },
     "execution_count": 15,
     "metadata": {},
     "output_type": "execute_result"
    }
   ],
   "source": [
    "df[df['resting_bp']==0]"
   ]
  },
  {
   "cell_type": "markdown",
   "id": "fc5ec887",
   "metadata": {},
   "source": [
    "## Redifining DataFrame"
   ]
  },
  {
   "cell_type": "code",
   "execution_count": 16,
   "id": "6b220ec6",
   "metadata": {},
   "outputs": [],
   "source": [
    "numerical = ['age','resting_bp','cholesterol','max_hr','oldpeak']\n",
    "categorical = ['sex','chest_pain','fasting_bs','resting_ecg','st_slope','exercise_angina']"
   ]
  },
  {
   "cell_type": "markdown",
   "id": "49e9fbaf",
   "metadata": {},
   "source": [
    "## ML Model Training:\n"
   ]
  },
  {
   "cell_type": "code",
   "execution_count": 17,
   "id": "6a5692f7",
   "metadata": {},
   "outputs": [],
   "source": [
    "df_data=df"
   ]
  },
  {
   "cell_type": "code",
   "execution_count": 18,
   "id": "1c0ae824",
   "metadata": {},
   "outputs": [],
   "source": [
    "y=df_data.heart_disease"
   ]
  },
  {
   "cell_type": "code",
   "execution_count": 19,
   "id": "24c3ba1f",
   "metadata": {
    "scrolled": true
   },
   "outputs": [
    {
     "data": {
      "text/html": [
       "<div>\n",
       "<style scoped>\n",
       "    .dataframe tbody tr th:only-of-type {\n",
       "        vertical-align: middle;\n",
       "    }\n",
       "\n",
       "    .dataframe tbody tr th {\n",
       "        vertical-align: top;\n",
       "    }\n",
       "\n",
       "    .dataframe thead th {\n",
       "        text-align: right;\n",
       "    }\n",
       "</style>\n",
       "<table border=\"1\" class=\"dataframe\">\n",
       "  <thead>\n",
       "    <tr style=\"text-align: right;\">\n",
       "      <th></th>\n",
       "      <th>age</th>\n",
       "      <th>sex</th>\n",
       "      <th>chest_pain</th>\n",
       "      <th>resting_bp</th>\n",
       "      <th>cholesterol</th>\n",
       "      <th>fasting_bs</th>\n",
       "      <th>resting_ecg</th>\n",
       "      <th>max_hr</th>\n",
       "      <th>exercise_angina</th>\n",
       "      <th>oldpeak</th>\n",
       "      <th>st_slope</th>\n",
       "      <th>heart_disease</th>\n",
       "    </tr>\n",
       "  </thead>\n",
       "  <tbody>\n",
       "    <tr>\n",
       "      <th>0</th>\n",
       "      <td>40</td>\n",
       "      <td>1</td>\n",
       "      <td>1</td>\n",
       "      <td>140</td>\n",
       "      <td>289.0</td>\n",
       "      <td>0</td>\n",
       "      <td>1</td>\n",
       "      <td>172</td>\n",
       "      <td>0</td>\n",
       "      <td>0.0</td>\n",
       "      <td>2</td>\n",
       "      <td>0</td>\n",
       "    </tr>\n",
       "    <tr>\n",
       "      <th>1</th>\n",
       "      <td>49</td>\n",
       "      <td>0</td>\n",
       "      <td>2</td>\n",
       "      <td>160</td>\n",
       "      <td>180.0</td>\n",
       "      <td>0</td>\n",
       "      <td>1</td>\n",
       "      <td>156</td>\n",
       "      <td>0</td>\n",
       "      <td>1.0</td>\n",
       "      <td>1</td>\n",
       "      <td>1</td>\n",
       "    </tr>\n",
       "    <tr>\n",
       "      <th>2</th>\n",
       "      <td>37</td>\n",
       "      <td>1</td>\n",
       "      <td>1</td>\n",
       "      <td>130</td>\n",
       "      <td>283.0</td>\n",
       "      <td>0</td>\n",
       "      <td>2</td>\n",
       "      <td>98</td>\n",
       "      <td>0</td>\n",
       "      <td>0.0</td>\n",
       "      <td>2</td>\n",
       "      <td>0</td>\n",
       "    </tr>\n",
       "    <tr>\n",
       "      <th>3</th>\n",
       "      <td>48</td>\n",
       "      <td>0</td>\n",
       "      <td>0</td>\n",
       "      <td>138</td>\n",
       "      <td>214.0</td>\n",
       "      <td>0</td>\n",
       "      <td>1</td>\n",
       "      <td>108</td>\n",
       "      <td>1</td>\n",
       "      <td>1.5</td>\n",
       "      <td>1</td>\n",
       "      <td>1</td>\n",
       "    </tr>\n",
       "    <tr>\n",
       "      <th>4</th>\n",
       "      <td>54</td>\n",
       "      <td>1</td>\n",
       "      <td>2</td>\n",
       "      <td>150</td>\n",
       "      <td>195.0</td>\n",
       "      <td>0</td>\n",
       "      <td>1</td>\n",
       "      <td>122</td>\n",
       "      <td>0</td>\n",
       "      <td>0.0</td>\n",
       "      <td>2</td>\n",
       "      <td>0</td>\n",
       "    </tr>\n",
       "  </tbody>\n",
       "</table>\n",
       "</div>"
      ],
      "text/plain": [
       "   age  sex  chest_pain  resting_bp  cholesterol  fasting_bs  resting_ecg  \\\n",
       "0   40    1           1         140        289.0           0            1   \n",
       "1   49    0           2         160        180.0           0            1   \n",
       "2   37    1           1         130        283.0           0            2   \n",
       "3   48    0           0         138        214.0           0            1   \n",
       "4   54    1           2         150        195.0           0            1   \n",
       "\n",
       "   max_hr  exercise_angina  oldpeak  st_slope  heart_disease  \n",
       "0     172                0      0.0         2              0  \n",
       "1     156                0      1.0         1              1  \n",
       "2      98                0      0.0         2              0  \n",
       "3     108                1      1.5         1              1  \n",
       "4     122                0      0.0         2              0  "
      ]
     },
     "execution_count": 19,
     "metadata": {},
     "output_type": "execute_result"
    }
   ],
   "source": [
    "x=df_data[numerical+categorical]\n",
    "# we have to encode caterogical data into numbers first before we start working with the model\n",
    "from sklearn import preprocessing\n",
    "le = preprocessing.LabelEncoder()\n",
    "df['sex'] = le.fit_transform(df['sex'])\n",
    "df['chest_pain'] = le.fit_transform(df['chest_pain'])\n",
    "df['chest_pain'] = le.fit_transform(df['chest_pain'])\n",
    "df['resting_ecg'] = le.fit_transform(df['resting_ecg'])\n",
    "df['st_slope'] = le.fit_transform(df['st_slope'])\n",
    "df['exercise_angina'] = le.fit_transform(df['exercise_angina'])\n",
    "\n",
    "x=df.drop(['heart_disease'], axis=1)\n",
    "y=df.heart_disease\n",
    "df.head()"
   ]
  },
  {
   "cell_type": "code",
   "execution_count": 20,
   "id": "b0ee1792",
   "metadata": {
    "scrolled": true
   },
   "outputs": [],
   "source": [
    "from sklearn.model_selection import train_test_split \n",
    "#splitting the data for trainging and testing\n",
    "train_x, val_x, train_y, val_y = train_test_split(x, y,test_size=0.3,random_state = 0)"
   ]
  },
  {
   "cell_type": "code",
   "execution_count": 21,
   "id": "019ca2e3",
   "metadata": {},
   "outputs": [],
   "source": [
    "from sklearn.ensemble import RandomForestClassifier\n",
    "model=RandomForestClassifier(random_state = 0)"
   ]
  },
  {
   "cell_type": "code",
   "execution_count": 22,
   "id": "d064c6ff",
   "metadata": {},
   "outputs": [],
   "source": [
    "model.fit(train_x,train_y)\n",
    "y_pred=model.predict(val_x)"
   ]
  },
  {
   "cell_type": "code",
   "execution_count": 23,
   "id": "6b3ec6c9",
   "metadata": {},
   "outputs": [
    {
     "name": "stdout",
     "output_type": "stream",
     "text": [
      "Accuracy: 0.8659420289855072\n"
     ]
    }
   ],
   "source": [
    "from sklearn import metrics\n",
    "print(\"Accuracy:\",metrics.accuracy_score(val_y, y_pred))\n"
   ]
  },
  {
   "cell_type": "markdown",
   "id": "408ed6b8",
   "metadata": {},
   "source": [
    "> We have almost 87% accuracy with deafult parameters for the model \n",
    "we will try to choose some values for some parameters to yield a better score \n",
    "as a rule of thumb _estimators should be 10X your input parameters so we will explore options around that \n",
    "a grid will be created to try values for different parameters some based on rules and some by trials \n",
    "different combinations will be applied and we will choose the combination with the best score from grid search"
   ]
  },
  {
   "cell_type": "code",
   "execution_count": 24,
   "id": "75924bcb",
   "metadata": {},
   "outputs": [],
   "source": [
    "from sklearn.model_selection import GridSearchCV\n",
    "param_grid = { \n",
    "    'n_estimators': [50,100,110,150],\n",
    "    'max_features': ['auto', 'sqrt'],\n",
    "    'max_depth' : [4,5,6,7,'none'],\n",
    "    'criterion' :['gini', 'entropy'],\n",
    "    'min_samples_leaf': [1,2,3]\n",
    "}\n",
    "rf = RandomForestClassifier(random_state = 0)\n",
    "# Instantiate the grid search model\n",
    "grid_search = GridSearchCV(estimator = rf, param_grid = param_grid, \n",
    "                          cv = 4, n_jobs = -1)\n"
   ]
  },
  {
   "cell_type": "code",
   "execution_count": 25,
   "id": "bbf51f76",
   "metadata": {},
   "outputs": [
    {
     "name": "stderr",
     "output_type": "stream",
     "text": [
      "C:\\Users\\Mohamed Salman\\anaconda3\\lib\\site-packages\\sklearn\\model_selection\\_search.py:918: UserWarning: One or more of the test scores are non-finite: [0.85181483 0.84245924 0.84556483 0.84243983 0.84868983 0.84244953\n",
      " 0.84555512 0.84243012 0.85648292 0.84555512 0.84711762 0.84398292\n",
      " 0.85181483 0.84245924 0.84556483 0.84243983 0.84868983 0.84244953\n",
      " 0.84555512 0.84243012 0.85648292 0.84555512 0.84711762 0.84398292\n",
      " 0.84868983 0.84871894 0.85027174 0.85026203 0.85335792 0.85025233\n",
      " 0.85181483 0.85181483 0.85492042 0.85182453 0.85182453 0.85338703\n",
      " 0.84868983 0.84871894 0.85027174 0.85026203 0.85335792 0.85025233\n",
      " 0.85181483 0.85181483 0.85492042 0.85182453 0.85182453 0.85338703\n",
      " 0.84869953 0.85962733 0.85650233 0.85651203 0.84869953 0.84402174\n",
      " 0.84402174 0.84868983 0.85181483 0.85494953 0.85651203 0.85649262\n",
      " 0.84869953 0.85962733 0.85650233 0.85651203 0.84869953 0.84402174\n",
      " 0.84402174 0.84868983 0.85181483 0.85494953 0.85651203 0.85649262\n",
      " 0.85493012 0.85495924 0.85338703 0.85807453 0.85647321 0.84868983\n",
      " 0.85180512 0.85960792 0.84869953 0.84869953 0.84868983 0.84557453\n",
      " 0.85493012 0.85495924 0.85338703 0.85807453 0.85647321 0.84868983\n",
      " 0.85180512 0.85960792 0.84869953 0.84869953 0.84868983 0.84557453\n",
      "        nan        nan        nan        nan        nan        nan\n",
      "        nan        nan        nan        nan        nan        nan\n",
      "        nan        nan        nan        nan        nan        nan\n",
      "        nan        nan        nan        nan        nan        nan\n",
      " 0.85182453 0.84558424 0.84401203 0.84711762 0.85181483 0.84401203\n",
      " 0.84556483 0.84868012 0.85338703 0.84868983 0.85335792 0.85179542\n",
      " 0.85182453 0.84558424 0.84401203 0.84711762 0.85181483 0.84401203\n",
      " 0.84556483 0.84868012 0.85338703 0.84868983 0.85335792 0.85179542\n",
      " 0.85804542 0.85493983 0.85182453 0.85492042 0.85492042 0.85493983\n",
      " 0.85337733 0.85336762 0.84711762 0.85337733 0.85337733 0.85180512\n",
      " 0.85804542 0.85493983 0.85182453 0.85492042 0.85492042 0.85493983\n",
      " 0.85337733 0.85336762 0.84711762 0.85337733 0.85337733 0.85180512\n",
      " 0.85026203 0.85026203 0.84713703 0.85026203 0.85180512 0.85650233\n",
      " 0.85181483 0.85493012 0.85025233 0.85651203 0.85494953 0.85337733\n",
      " 0.85026203 0.85026203 0.84713703 0.85026203 0.85180512 0.85650233\n",
      " 0.85181483 0.85493012 0.85025233 0.85651203 0.85494953 0.85337733\n",
      " 0.85183424 0.85182453 0.85027174 0.85339674 0.84868012 0.84868983\n",
      " 0.85025233 0.85025233 0.85180512 0.85493983 0.85181483 0.85025233\n",
      " 0.85183424 0.85182453 0.85027174 0.85339674 0.84868012 0.84868983\n",
      " 0.85025233 0.85025233 0.85180512 0.85493983 0.85181483 0.85025233\n",
      "        nan        nan        nan        nan        nan        nan\n",
      "        nan        nan        nan        nan        nan        nan\n",
      "        nan        nan        nan        nan        nan        nan\n",
      "        nan        nan        nan        nan        nan        nan]\n",
      "  warnings.warn(\n"
     ]
    },
    {
     "data": {
      "text/plain": [
       "0.8596273291925466"
      ]
     },
     "execution_count": 25,
     "metadata": {},
     "output_type": "execute_result"
    }
   ],
   "source": [
    "grid_results=grid_search.fit(train_x,train_y)\n",
    "grid_results.best_score_\n"
   ]
  },
  {
   "cell_type": "code",
   "execution_count": 26,
   "id": "ebc7fd16",
   "metadata": {},
   "outputs": [
    {
     "name": "stdout",
     "output_type": "stream",
     "text": [
      "{'criterion': 'gini', 'max_depth': 6, 'max_features': 'auto', 'min_samples_leaf': 1, 'n_estimators': 100}\n",
      "Accuracy: 0.8514492753623188\n"
     ]
    }
   ],
   "source": [
    "print(grid_search.best_params_)\n",
    "bestmodel= grid_results.best_estimator_\n",
    "bestmodel.fit(train_x,train_y)\n",
    "y_pred=bestmodel.predict(val_x)\n",
    "print(\"Accuracy:\",metrics.accuracy_score(val_y, y_pred))"
   ]
  },
  {
   "cell_type": "markdown",
   "id": "83bc1b2d",
   "metadata": {},
   "source": [
    "> Notice we got a lower accuracy on our test set than the grid serach did on testing with the train test \n",
    "this happens because it tests on the training data ( data is divided into cv folds and tested per those folds)"
   ]
  },
  {
   "cell_type": "markdown",
   "id": "2ab811da",
   "metadata": {},
   "source": [
    "Now we will try tuning the hyper parameters considering we got an idea of how accuracy changes with some trials on grid search  the model was tuned according to our grid search results and machine learning best practices\n",
    "\n",
    "https://machinelearningmastery.com/random-forest-ensemble-in-python/"
   ]
  },
  {
   "cell_type": "code",
   "execution_count": 27,
   "id": "d8154b53",
   "metadata": {},
   "outputs": [
    {
     "name": "stdout",
     "output_type": "stream",
     "text": [
      "Accuracy: 0.8768115942028986\n"
     ]
    }
   ],
   "source": [
    "tunedmodel= RandomForestClassifier(random_state = 0, max_depth=6, criterion ='entropy',\n",
    "                                 n_estimators=150)\n",
    "tunedmodel.fit(train_x,train_y)\n",
    "y_pred=tunedmodel.predict(val_x)\n",
    "print(\"Accuracy:\",metrics.accuracy_score(val_y, y_pred))"
   ]
  },
  {
   "cell_type": "markdown",
   "id": "33b87b5b",
   "metadata": {},
   "source": [
    "### Classification results:"
   ]
  },
  {
   "cell_type": "code",
   "execution_count": 28,
   "id": "4c7dcd1a",
   "metadata": {},
   "outputs": [
    {
     "name": "stdout",
     "output_type": "stream",
     "text": [
      "[[104  17]\n",
      " [ 17 138]]\n",
      "              precision    recall  f1-score   support\n",
      "\n",
      "           0       0.86      0.86      0.86       121\n",
      "           1       0.89      0.89      0.89       155\n",
      "\n",
      "    accuracy                           0.88       276\n",
      "   macro avg       0.87      0.87      0.87       276\n",
      "weighted avg       0.88      0.88      0.88       276\n",
      "\n"
     ]
    },
    {
     "data": {
      "image/png": "[encoded data removed]",
      "text/plain": [
       "<Figure size 432x288 with 2 Axes>"
      ]
     },
     "metadata": {
      "needs_background": "light"
     },
     "output_type": "display_data"
    }
   ],
   "source": [
    "from sklearn.metrics import confusion_matrix, classification_report\n",
    "CM = confusion_matrix(val_y,y_pred )\n",
    "print(CM)\n",
    "\n",
    "# Visualize it as a heatmap\n",
    "group_names = [\"True Neg\",\"False Pos\",\"False Neg\",\"True Pos\"]\n",
    "group_percentages = [\"{0:.2%}\".format(value) for value in\n",
    "                     CM.flatten()/np.sum(CM)]\n",
    "labels = [f\"{v1}\\n{v3}\" for v1, v3 in\n",
    "          zip(group_names,group_percentages)]\n",
    "labels = np.asarray(labels).reshape(2,2)\n",
    "sns.heatmap(CM, annot=labels, fmt=\"\", cmap='Greens')\n",
    "print(classification_report(val_y, y_pred))\n",
    "# we have good f1 scores for both classes "
   ]
  }
 ],
 "metadata": {
  "kernelspec": {
   "display_name": "Python 3 (ipykernel)",
   "language": "python",
   "name": "python3"
  },
  "language_info": {
   "codemirror_mode": {
    "name": "ipython",
    "version": 3
   },
   "file_extension": ".py",
   "mimetype": "text/x-python",
   "name": "python",
   "nbconvert_exporter": "python",
   "pygments_lexer": "ipython3",
   "version": "3.9.7"
  }
 },
 "nbformat": 4,
 "nbformat_minor": 5
}
